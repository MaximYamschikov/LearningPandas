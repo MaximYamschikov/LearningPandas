{
 "cells": [
  {
   "cell_type": "markdown",
   "id": "8b5551e4",
   "metadata": {},
   "source": [
    "## Установка pandas"
   ]
  },
  {
   "cell_type": "code",
   "execution_count": null,
   "id": "d45712c2",
   "metadata": {},
   "outputs": [],
   "source": [
    "!pip3 install pandas"
   ]
  },
  {
   "cell_type": "code",
   "execution_count": null,
   "id": "0f2bde54",
   "metadata": {},
   "outputs": [],
   "source": [
    "import pandas as pd"
   ]
  },
  {
   "cell_type": "markdown",
   "id": "bb177a51",
   "metadata": {},
   "source": [
    "## Чтение данных и фильтрация таблиц"
   ]
  },
  {
   "cell_type": "code",
   "execution_count": null,
   "id": "ab84ff39",
   "metadata": {},
   "outputs": [],
   "source": [
    "user = pd.read_csv('user.csv')"
   ]
  },
  {
   "cell_type": "markdown",
   "id": "b5539d87",
   "metadata": {},
   "source": [
    "### Задание 1"
   ]
  },
  {
   "cell_type": "markdown",
   "id": "ae00c5b8",
   "metadata": {},
   "source": [
    "Сколько в таблице `user` представлено учеников, родившихся в сентябре?"
   ]
  },
  {
   "cell_type": "markdown",
   "id": "0f328db0",
   "metadata": {},
   "source": [
    "### Задание 2"
   ]
  },
  {
   "cell_type": "markdown",
   "id": "b5c4a9d8",
   "metadata": {},
   "source": [
    "Какое количество учеников в последний раз посещали платформу в первые $14$ дней сентября?"
   ]
  },
  {
   "cell_type": "markdown",
   "id": "624a946a",
   "metadata": {},
   "source": [
    "### Задание 3"
   ]
  },
  {
   "cell_type": "markdown",
   "id": "2cb7a2e7",
   "metadata": {},
   "source": [
    "На сколько в данных больше девятиклассников, чем девятиклассниц?"
   ]
  },
  {
   "cell_type": "markdown",
   "id": "1cf486a9",
   "metadata": {},
   "source": [
    "### Задание 4"
   ]
  },
  {
   "cell_type": "markdown",
   "id": "6eacddf0",
   "metadata": {},
   "source": [
    "Какой процент учеников, у которых указан класс, обучается в $9$-м классе?\n",
    "\n",
    "Ответ округлите до целых."
   ]
  },
  {
   "cell_type": "markdown",
   "id": "07097adb",
   "metadata": {},
   "source": [
    "### Задание 5"
   ]
  },
  {
   "cell_type": "markdown",
   "id": "0906829a",
   "metadata": {},
   "source": [
    "Сколько в данных представлено учеников из регионов, в названиях которых в качестве подстроки содержится слово «город»?\n",
    "\n",
    "При расчёте статистики приведите названия регионов к строчному написанию."
   ]
  },
  {
   "cell_type": "markdown",
   "id": "eb7dddb6",
   "metadata": {},
   "source": [
    "## Группировка, агрегация и соединение таблиц"
   ]
  },
  {
   "cell_type": "code",
   "execution_count": null,
   "id": "57f47640",
   "metadata": {},
   "outputs": [],
   "source": [
    "course = pd.read_csv('course.csv')"
   ]
  },
  {
   "cell_type": "code",
   "execution_count": null,
   "id": "1473a0b6",
   "metadata": {},
   "outputs": [],
   "source": [
    "user_course_progress = pd.read_csv('user_course_progress.csv')"
   ]
  },
  {
   "cell_type": "markdown",
   "id": "33916891",
   "metadata": {},
   "source": [
    "**Относительным прогрессом** будем называть отношение суммарного числа баллов, которые ученик набрал за курс (колонка `progress` в таблице `user_course_progress`), к максимальному количеству баллов, которые ученик в принципе мог набрать за данный курс (колонка `max_progress` в таблице `course`).\n",
    "\n",
    "С помощью представленных данных найдите ответ на следующий вопрос: в курсах какого предмета больше всего учеников, чей относительный прогресс не меньше $0.8$?\n",
    "\n",
    "В рамках следующих заданий вам будет предложено, действуя поэтапно, найти ответ на этот вопрос."
   ]
  },
  {
   "cell_type": "markdown",
   "id": "0b282053",
   "metadata": {},
   "source": [
    "### Задание 1"
   ]
  },
  {
   "cell_type": "markdown",
   "id": "56f4ef8c",
   "metadata": {},
   "source": [
    "Произведите соединение таблиц `course` и `user_course_progress`.\n",
    "\n",
    "В качестве ответа укажите количество строчек итоговой таблицы, в которых представлены ученики курсов по химии."
   ]
  },
  {
   "cell_type": "markdown",
   "id": "5f7122c8",
   "metadata": {},
   "source": [
    "### Задание 2"
   ]
  },
  {
   "cell_type": "markdown",
   "id": "6ebe3997",
   "metadata": {},
   "source": [
    "Обратите внимание, что у части курсов нет значения в колонке `max_score`. Уберите из полученной в предыдущем задании таблицы все строчки, в которых пропущено значение колонки `max_score`.\n",
    "\n",
    "В качестве ответа укажите количество строчек в итоговой таблице."
   ]
  },
  {
   "cell_type": "markdown",
   "id": "2e7a3487",
   "metadata": {},
   "source": [
    "### Задание 3"
   ]
  },
  {
   "cell_type": "markdown",
   "id": "7b9fe5e3",
   "metadata": {},
   "source": [
    "Добавьте в полученную в предыдущем задании таблицу колонку `relative_progress`, в которой для каждого ученика будет храниться значение его относительного прогресса в конкретном курсе.\n",
    "\n",
    "В качестве ответа укажите среднее значение относительного прогресса в таблице. Ответ округлите до двух знаков после запятой с помощью функции `round`, которая встроена в Series."
   ]
  },
  {
   "cell_type": "markdown",
   "id": "f2f2e646",
   "metadata": {},
   "source": [
    "### Задание 4"
   ]
  },
  {
   "cell_type": "markdown",
   "id": "f066617d",
   "metadata": {},
   "source": [
    "Оставьте в полученной в предыдущем задании таблице только те строчки, в которых значение относительного прогресса не меньше $0.8$.\n",
    "\n",
    "В качестве ответа укажите число строчек в получившейся таблице."
   ]
  },
  {
   "cell_type": "markdown",
   "id": "0da39496",
   "metadata": {},
   "source": [
    "### Задание 5"
   ]
  },
  {
   "cell_type": "markdown",
   "id": "e6730f75",
   "metadata": {},
   "source": [
    "Произведите группировку строчек таблицы по предметам и посчитайте, сколько учеников с относительным прогрессом не меньше $0.8$ оказалось в каждом из предметов.\n",
    "\n",
    "В качестве ответа заполните таблицу, в которой каждому предмету сопоставлено число таких учеников.\n",
    "\n",
    "Если один и тот же ученик учился в разных курсах одного и того же предмета и в каждом из этих курсов достиг относительного прогресса не менее $0.8$, при подсчёте учтите его несколько раз."
   ]
  },
  {
   "cell_type": "markdown",
   "id": "d87b4850",
   "metadata": {},
   "source": [
    "### Задание 6"
   ]
  },
  {
   "cell_type": "markdown",
   "id": "4500b2c0",
   "metadata": {},
   "source": [
    "В курсах какого предмета больше всего учеников, достигших относительного прогресса не менее $0.8$?"
   ]
  }
 ],
 "metadata": {
  "kernelspec": {
   "display_name": "Python 3 (ipykernel)",
   "language": "python",
   "name": "python3"
  },
  "language_info": {
   "codemirror_mode": {
    "name": "ipython",
    "version": 3
   },
   "file_extension": ".py",
   "mimetype": "text/x-python",
   "name": "python",
   "nbconvert_exporter": "python",
   "pygments_lexer": "ipython3",
   "version": "3.13.0"
  }
 },
 "nbformat": 4,
 "nbformat_minor": 5
}
